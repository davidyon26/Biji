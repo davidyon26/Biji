{
 "cells": [
  {
   "cell_type": "markdown",
   "metadata": {},
   "source": [
    "## iptables\n",
    "iptables 是一个基于命令行的防火墙设置工具。它使用策略链（policy chain）的概念允许或者阻止网络数据流。iptables的前身是用在`Linux 2.2.x`的`ipchains`以及用于`Linux 2.0.x`的`ipfwadm`"
   ]
  },
  {
   "cell_type": "code",
   "execution_count": null,
   "metadata": {
    "collapsed": true
   },
   "outputs": [],
   "source": []
  }
 ],
 "metadata": {
  "kernelspec": {
   "display_name": "Bash",
   "language": "bash",
   "name": "bash"
  },
  "language_info": {
   "codemirror_mode": "shell",
   "file_extension": ".sh",
   "mimetype": "text/x-sh",
   "name": "bash"
  }
 },
 "nbformat": 4,
 "nbformat_minor": 2
}
